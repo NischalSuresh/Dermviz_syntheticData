{
 "cells": [
  {
   "cell_type": "code",
   "execution_count": 4,
   "metadata": {},
   "outputs": [
    {
     "name": "stdout",
     "output_type": "stream",
     "text": [
      "0\n",
      "1\n",
      "2\n",
      "3\n",
      "4\n",
      "5\n",
      "6\n",
      "7\n",
      "8\n",
      "9\n"
     ]
    }
   ],
   "source": [
    "for i in range( 10):\n",
    "    print(i)"
   ]
  },
  {
   "cell_type": "code",
   "execution_count": 8,
   "metadata": {},
   "outputs": [
    {
     "name": "stdout",
     "output_type": "stream",
     "text": [
      "16_7097.JPG\n",
      "J16_2009_05_04.jpg\n",
      "Q16_2012_04_03.jpg\n",
      "U16_2005_10_31_Regist.jpg\n",
      "U16_2009_01_12_Regist.jpg\n",
      "T16_2008_10_06_Regist.jpg\n",
      "13_6815.JPG\n",
      "16_7085.JPG\n",
      "14_7202.JPG\n",
      "15_7202.JPG\n",
      "H14_2009_12_09_Regist.jpg\n",
      "F16_2010_10_11.jpg\n",
      "O14_2015_10_12.jpg\n",
      "A16_2007_04_06_Regist.jpg\n"
     ]
    }
   ],
   "source": [
    "import cv2\n",
    "import os\n",
    "\n",
    "back_image_dir = '/Users/ngandige/Documents/Veytel/Dermviz/Synthetic_data/full_back_images'\n",
    "crop_save_path = '/Users/ngandige/Documents/Veytel/Dermviz/Synthetic_data/crops/'\n",
    "files = os.listdir(back_image_dir)\n",
    "files = [file for file in files if not file.startswith('.DS_Store')]\n",
    "for i in range(len(files)):\n",
    "    if(i >40):\n",
    "     print(files[i])"
   ]
  },
  {
   "cell_type": "code",
   "execution_count": 12,
   "metadata": {},
   "outputs": [
    {
     "name": "stdout",
     "output_type": "stream",
     "text": [
      "13_6815.JPG_crop_8\n"
     ]
    }
   ],
   "source": [
    "file = '13_6815.JPG_crop_8.jpg'\n",
    "file = file.split('.')\n",
    "print(file[0]+ '.' +file[1])"
   ]
  },
  {
   "cell_type": "code",
   "execution_count": null,
   "metadata": {},
   "outputs": [],
   "source": []
  }
 ],
 "metadata": {
  "kernelspec": {
   "display_name": "vlr",
   "language": "python",
   "name": "python3"
  },
  "language_info": {
   "codemirror_mode": {
    "name": "ipython",
    "version": 3
   },
   "file_extension": ".py",
   "mimetype": "text/x-python",
   "name": "python",
   "nbconvert_exporter": "python",
   "pygments_lexer": "ipython3",
   "version": "3.11.4"
  },
  "orig_nbformat": 4
 },
 "nbformat": 4,
 "nbformat_minor": 2
}
